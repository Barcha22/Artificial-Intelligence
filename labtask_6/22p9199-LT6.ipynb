{
 "cells": [
  {
   "cell_type": "code",
   "execution_count": 87,
   "id": "dbe16de7",
   "metadata": {},
   "outputs": [],
   "source": [
    "import seaborn as sns\n",
    "import pandas as pd\n",
    "from sklearn.neighbors import KNeighborsClassifier\n",
    "from sklearn.model_selection import train_test_split\n",
    "from sklearn.metrics import accuracy_score\n",
    "import matplotlib.pyplot as plt\n",
    "import numpy as np"
   ]
  },
  {
   "cell_type": "code",
   "execution_count": 88,
   "id": "e6d2848a",
   "metadata": {},
   "outputs": [
    {
     "data": {
      "text/html": [
       "<div>\n",
       "<style scoped>\n",
       "    .dataframe tbody tr th:only-of-type {\n",
       "        vertical-align: middle;\n",
       "    }\n",
       "\n",
       "    .dataframe tbody tr th {\n",
       "        vertical-align: top;\n",
       "    }\n",
       "\n",
       "    .dataframe thead th {\n",
       "        text-align: right;\n",
       "    }\n",
       "</style>\n",
       "<table border=\"1\" class=\"dataframe\">\n",
       "  <thead>\n",
       "    <tr style=\"text-align: right;\">\n",
       "      <th></th>\n",
       "      <th>pclass</th>\n",
       "      <th>gender</th>\n",
       "      <th>age</th>\n",
       "      <th>sibsp</th>\n",
       "      <th>parch</th>\n",
       "      <th>fare</th>\n",
       "      <th>embark_town</th>\n",
       "      <th>alive</th>\n",
       "    </tr>\n",
       "  </thead>\n",
       "  <tbody>\n",
       "    <tr>\n",
       "      <th>0</th>\n",
       "      <td>3</td>\n",
       "      <td>male</td>\n",
       "      <td>22.0</td>\n",
       "      <td>1</td>\n",
       "      <td>0</td>\n",
       "      <td>7.2500</td>\n",
       "      <td>Southampton</td>\n",
       "      <td>no</td>\n",
       "    </tr>\n",
       "    <tr>\n",
       "      <th>1</th>\n",
       "      <td>1</td>\n",
       "      <td>female</td>\n",
       "      <td>38.0</td>\n",
       "      <td>1</td>\n",
       "      <td>0</td>\n",
       "      <td>71.2833</td>\n",
       "      <td>Cherbourg</td>\n",
       "      <td>yes</td>\n",
       "    </tr>\n",
       "    <tr>\n",
       "      <th>2</th>\n",
       "      <td>3</td>\n",
       "      <td>female</td>\n",
       "      <td>26.0</td>\n",
       "      <td>0</td>\n",
       "      <td>0</td>\n",
       "      <td>7.9250</td>\n",
       "      <td>Southampton</td>\n",
       "      <td>yes</td>\n",
       "    </tr>\n",
       "    <tr>\n",
       "      <th>3</th>\n",
       "      <td>1</td>\n",
       "      <td>female</td>\n",
       "      <td>35.0</td>\n",
       "      <td>1</td>\n",
       "      <td>0</td>\n",
       "      <td>53.1000</td>\n",
       "      <td>Southampton</td>\n",
       "      <td>yes</td>\n",
       "    </tr>\n",
       "    <tr>\n",
       "      <th>4</th>\n",
       "      <td>3</td>\n",
       "      <td>male</td>\n",
       "      <td>35.0</td>\n",
       "      <td>0</td>\n",
       "      <td>0</td>\n",
       "      <td>8.0500</td>\n",
       "      <td>Southampton</td>\n",
       "      <td>no</td>\n",
       "    </tr>\n",
       "  </tbody>\n",
       "</table>\n",
       "</div>"
      ],
      "text/plain": [
       "   pclass  gender   age  sibsp  parch     fare  embark_town alive\n",
       "0       3    male  22.0      1      0   7.2500  Southampton    no\n",
       "1       1  female  38.0      1      0  71.2833    Cherbourg   yes\n",
       "2       3  female  26.0      0      0   7.9250  Southampton   yes\n",
       "3       1  female  35.0      1      0  53.1000  Southampton   yes\n",
       "4       3    male  35.0      0      0   8.0500  Southampton    no"
      ]
     },
     "metadata": {},
     "output_type": "display_data"
    },
    {
     "name": "stdout",
     "output_type": "stream",
     "text": [
      "pclass           0\n",
      "gender           0\n",
      "age            177\n",
      "sibsp            0\n",
      "parch            0\n",
      "fare             0\n",
      "embark_town      2\n",
      "alive            0\n",
      "dtype: int64\n",
      "total data\n",
      "891\n",
      "After droping empty values rows\n",
      "pclass         0\n",
      "gender         0\n",
      "age            0\n",
      "sibsp          0\n",
      "parch          0\n",
      "fare           0\n",
      "embark_town    0\n",
      "alive          0\n",
      "dtype: int64\n"
     ]
    }
   ],
   "source": [
    "#since seaborn has inbuilt datasets, and titanic is one of them we will use it from here\n",
    "data_sets=sns.get_dataset_names()\n",
    "# for d in data_sets:\n",
    "#     if d.startswith('t'):\n",
    "#         print(d)\n",
    "#     else:\n",
    "#         None\n",
    "        \n",
    "df = sns.load_dataset('titanic')\n",
    "df=df.rename(columns={'sex':'gender'})\n",
    "\n",
    "data = df[['pclass','gender','age','sibsp','parch','fare','embark_town','alive']]\n",
    "display(data.head())\n",
    "\n",
    "#Now that we loaded the required data, we will clean the data\n",
    "empty = data.isnull().sum()\n",
    "print(empty)\n",
    "print('total data')\n",
    "print(len(data))\n",
    "# we have 177 missing ages from total 891 so we are simply droping them\n",
    "\n",
    "data = data.dropna()\n",
    "print('After droping empty values rows')\n",
    "print(data.isnull().sum())\n",
    "\n",
    "# now we will go on to the next step"
   ]
  },
  {
   "cell_type": "markdown",
   "id": "ca93a414",
   "metadata": {},
   "source": [
    "## Question 1\n"
   ]
  },
  {
   "cell_type": "code",
   "execution_count": 89,
   "id": "654c10e4",
   "metadata": {},
   "outputs": [],
   "source": [
    "\"\"\"\n",
    "-> First we will load the library labelencoder to turn string values to numerics for example if we take gender column, its either\n",
    "    male or female so the encoder will convert it into 0 and 1 for male and female\n",
    "\"\"\"\n",
    "from sklearn.preprocessing import LabelEncoder"
   ]
  },
  {
   "cell_type": "markdown",
   "id": "10f5df52",
   "metadata": {},
   "source": [
    "## Question 2\n"
   ]
  },
  {
   "cell_type": "code",
   "execution_count": 90,
   "id": "2478a675",
   "metadata": {},
   "outputs": [
    {
     "name": "stdout",
     "output_type": "stream",
     "text": [
      "Accuracy Score : 0.6853\n"
     ]
    }
   ],
   "source": [
    "\n",
    "#loading the features \n",
    "X=data[['pclass','gender','age','sibsp','parch','fare','embark_town']].copy()\n",
    "#loading target\n",
    "y=data['alive']\n",
    "\n",
    "#changing the string values into numerics\n",
    "gender_encoder = LabelEncoder()\n",
    "embark_encoder = LabelEncoder()\n",
    "X['gender'] = gender_encoder.fit_transform(X['gender'])\n",
    "X['embark_town'] = embark_encoder.fit_transform(X['embark_town'])\n",
    "\n",
    "y = LabelEncoder().fit_transform(y)\n",
    "\n",
    "# now we will train the data through knn since we already have split the data\n",
    "knn = KNeighborsClassifier()\n",
    "\n",
    "X_train,X_test,y_train,y_test = train_test_split(X,y,test_size=0.2,random_state=42)\n",
    "\n",
    "knn.fit(X_train,y_train)\n",
    "\n",
    "y_predict = knn.predict(X_test)\n",
    "\n",
    "acc_score = accuracy_score(y_test,y_predict)\n",
    "print(f\"Accuracy Score : {acc_score:.4f}\")"
   ]
  },
  {
   "cell_type": "code",
   "execution_count": 91,
   "id": "e5968384",
   "metadata": {},
   "outputs": [
    {
     "name": "stdout",
     "output_type": "stream",
     "text": [
      "Random state 1: Accuracy = 0.6573\n",
      "Random state 10: Accuracy = 0.7063\n",
      "Random state 42: Accuracy = 0.6853\n",
      "Random state 10: Accuracy = 0.7063\n",
      "Random state 20: Accuracy = 0.7063\n",
      "Random state 12: Accuracy = 0.7203\n",
      "Random state 15: Accuracy = 0.6853\n",
      "Random state 25: Accuracy = 0.6643\n",
      "Random state 50: Accuracy = 0.7203\n",
      "Random state 75: Accuracy = 0.7063\n",
      "Random state 100: Accuracy = 0.6643\n"
     ]
    }
   ],
   "source": [
    "random_states = [1,10,42,10,20,12,15,25,50,75,100] \n",
    "accuracy_scores = [] #a list to store random states accuracy\n",
    "\n",
    "for state in random_states:\n",
    "    X_train,X_test,y_train,y_test = train_test_split(X,y,test_size=0.2,random_state=state)\n",
    "    \n",
    "    knn.fit(X_train,y_train)\n",
    "    y_predict = knn.predict(X_test)\n",
    "    acc = accuracy_score(y_test,y_predict)\n",
    "    accuracy_scores.append(acc)\n",
    "    \n",
    "    print(f\"Random state {state}: Accuracy = {acc:.4f}\")\n",
    "    "
   ]
  },
  {
   "cell_type": "markdown",
   "id": "8e24e73e",
   "metadata": {},
   "source": [
    "## Question 3\n"
   ]
  },
  {
   "cell_type": "code",
   "execution_count": 92,
   "id": "62c9fe49",
   "metadata": {},
   "outputs": [
    {
     "data": {
      "image/png": "[encoded data removed]",
      "text/plain": [
       "<Figure size 600x600 with 1 Axes>"
      ]
     },
     "metadata": {},
     "output_type": "display_data"
    }
   ],
   "source": [
    "plt.figure(figsize=(6,6))\n",
    "plt.bar(range(len(random_states)),accuracy_scores,color='skyblue')\n",
    "\n",
    "avg_acc = np.mean(accuracy_scores)\n",
    "plt.axhline(y=avg_acc, color='red',linestyle='--',label=f'Average accuracy: {avg_acc:.4f}')\n",
    "\n",
    "plt.xticks(range(len(random_states)), random_states, rotation=45)\n",
    "plt.xlabel('Random State Value')\n",
    "plt.ylabel('Accuracy')\n",
    "plt.title('KNN Model Accuracy for Different Random States')\n",
    "plt.ylim(0.5, 0.85)\n",
    "plt.grid(axis='y', linestyle='--', alpha=0.7)\n",
    "plt.legend()\n",
    "plt.tight_layout()\n",
    "plt.show()"
   ]
  },
  {
   "cell_type": "code",
   "execution_count": null,
   "id": "6e5ceddc",
   "metadata": {},
   "outputs": [],
   "source": []
  }
 ],
 "metadata": {
  "kernelspec": {
   "display_name": "Python 3",
   "language": "python",
   "name": "python3"
  },
  "language_info": {
   "codemirror_mode": {
    "name": "ipython",
    "version": 3
   },
   "file_extension": ".py",
   "mimetype": "text/x-python",
   "name": "python",
   "nbconvert_exporter": "python",
   "pygments_lexer": "ipython3",
   "version": "3.13.1"
  }
 },
 "nbformat": 4,
 "nbformat_minor": 5
}
