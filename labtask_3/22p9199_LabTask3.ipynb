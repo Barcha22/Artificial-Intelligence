{
 "cells": [
  {
   "cell_type": "code",
   "execution_count": 1,
   "id": "fab3303a-4fb9-4aae-a417-31029e1e2569",
   "metadata": {},
   "outputs": [],
   "source": [
    "#Name : Muneeb Hassan \n",
    "#Roll No : 22p9199\n",
    "#Section : BCS 6A and BAI 4A\n",
    "#Dear sir i had missed alot of lab tasks with the above sections and i was in AI-6B until the previous sessionals i changed section due to clashes \n",
    "#and missed alot of tasks inbetween so i would like to submit tasks in this section so that i can be recover the missed tasks with this section"
   ]
  },
  {
   "cell_type": "code",
   "execution_count": 10,
   "id": "3f977a4d-2ba3-4cb2-8a2c-4f20eaa60bb4",
   "metadata": {},
   "outputs": [],
   "source": [
    "from queue import Queue\n",
    "from collections import deque"
   ]
  },
  {
   "cell_type": "markdown",
   "id": "2c2a0f9e-05db-4922-9858-682d9c86fd0d",
   "metadata": {},
   "source": [
    "## Question 1 ====> Depth First Search\n"
   ]
  },
  {
   "cell_type": "code",
   "execution_count": 12,
   "id": "7885764a-96d7-461c-9306-7d3642a0c84b",
   "metadata": {},
   "outputs": [
    {
     "name": "stdout",
     "output_type": "stream",
     "text": [
      "Results:\n",
      "['root/dir2/target_file.txt', 'root/dir1/subdir1/target_file.txt']\n"
     ]
    }
   ],
   "source": [
    "def DFS(tree,target): \n",
    "    stack = [(\"root\",tree[\"root\"],\"root\")] #push the root nodes into the stack lifo\n",
    "    found_path=[] #an empty list to store the path if found\n",
    "     \n",
    "    \n",
    "    while stack: #while stack is not empty\n",
    "        folder_name,content,path = stack.pop() #pop the last inserted values\n",
    "        \n",
    "        for file in content[\"files\"]: #for files in a directory\n",
    "            if file == target:\n",
    "                found_path.append(path + \"/\" + file) #if the file is found there then we will add it to the list\n",
    "                \n",
    "        for sub_name,sub_content in content[\"directories\"].items(): #in sub directories inside directories\n",
    "            stack.append((sub_name,sub_content,path+\"/\"+sub_name)) #push them to stack\n",
    "            \n",
    "    return found_path if found_path else ['file not found'] #return the paths from the list if found \n",
    "\n",
    "directory_tree = {\n",
    "    'root': {\n",
    "        'files': ['file1.txt', 'file2.txt'],\n",
    "        'directories': {\n",
    "            'dir1': {\n",
    "                'files': ['file3.txt'],\n",
    "                'directories': {\n",
    "                    'subdir1': {\n",
    "                        'files': ['target_file.txt'],\n",
    "                        'directories': {}\n",
    "                    }\n",
    "                }\n",
    "            },\n",
    "            'dir2': {\n",
    "                'files': ['file4.txt', 'target_file.txt'],\n",
    "                'directories': {\n",
    "                    'subdir2': {\n",
    "                        'files': ['file5.txt'],\n",
    "                        'directories': {}\n",
    "                    }\n",
    "                }\n",
    "            }\n",
    "        }\n",
    "    }\n",
    "}\n",
    "\n",
    "target = input(\"Enter the file name to search: \") \n",
    "result = DFS(directory_tree, target)\n",
    "\n",
    "print(\"Results:\")\n",
    "print(result)\n"
   ]
  },
  {
   "cell_type": "markdown",
   "id": "c1ad86f9-c88e-4964-8ab2-7a2e0322f588",
   "metadata": {},
   "source": [
    "## Question 2 =======> Breadth First Search\n"
   ]
  },
  {
   "cell_type": "code",
   "execution_count": null,
   "id": "a0e7a997",
   "metadata": {},
   "outputs": [
    {
     "name": "stdout",
     "output_type": "stream",
     "text": [
      "Suggested friends (2nd degree):\n",
      "Emaan\n",
      "Danish\n",
      "Farhan\n"
     ]
    }
   ],
   "source": [
    "def BFS(network,start_name):\n",
    "    visited = set() #an empty set to store the visited friends\n",
    "    queue = deque() #\n",
    "    queue.append((start_name,0)) #adding the start person in queue with level 0 or starting point = 0\n",
    "    second_degree = set() #an emoty set to store the second degree friends\n",
    "    direct_friends = set(network[start_name]) #direct friends from the network\n",
    "    \n",
    "    while queue: #while queue is not empty\n",
    "        person,level = queue.popleft() #pop the first person along with there level or how far are they from the starting user\n",
    "        \n",
    "        if level>2: #if the level is more then 2 then we will simply skip the loop\n",
    "            continue\n",
    "        \n",
    "        visited.add(person) #if the person has less then 2 level then we will add the person to the visited set\n",
    "        \n",
    "        for friend in network.get(person,[]): #for each friend of the current user\n",
    "            if friend not in visited: #if a friend is not visited\n",
    "                if level == 1 and friend not in direct_friends and friend != start_name: #and if that person has 1 level and is not a direct friend of the current user\n",
    "                    second_degree.add(friend) #then add him to the second degree set\n",
    "                queue.append((friend,level+1)) #adding that person to the queue with level 2\n",
    "                visited.add(friend) # adding that person to visited set\n",
    "                \n",
    "    return list(second_degree) if second_degree else ['No second-degree friends found.'] #if second degree is not empty then we will return the names as  a list else we will show the message\n",
    " \n",
    "social_network = {\n",
    "    'Ahmed': ['Bilal', 'Chaudhry'],\n",
    "    'Bilal': ['Ahmed', 'Danish', 'Emaan'],\n",
    "    'Chaudhry': ['Ahmed', 'Farhan'],\n",
    "    'Danish': ['Bilal', 'Gulzar'],\n",
    "    'Emaan': ['Bilal'],\n",
    "    'Farhan': ['Chaudhry'],\n",
    "    'Gulzar': ['Danish']\n",
    "}\n",
    "\n",
    "user = input(\"Enter a user's name: \")\n",
    "result = BFS(social_network, user)\n",
    "\n",
    "print(result)\n"
   ]
  },
  {
   "cell_type": "code",
   "execution_count": null,
   "id": "96f6284c",
   "metadata": {},
   "outputs": [],
   "source": []
  }
 ],
 "metadata": {
  "kernelspec": {
   "display_name": "Python 3",
   "language": "python",
   "name": "python3"
  },
  "language_info": {
   "codemirror_mode": {
    "name": "ipython",
    "version": 3
   },
   "file_extension": ".py",
   "mimetype": "text/x-python",
   "name": "python",
   "nbconvert_exporter": "python",
   "pygments_lexer": "ipython3",
   "version": "3.13.1"
  }
 },
 "nbformat": 4,
 "nbformat_minor": 5
}
