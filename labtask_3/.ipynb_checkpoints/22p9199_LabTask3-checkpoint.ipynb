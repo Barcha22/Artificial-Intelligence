{
 "cells": [
  {
   "cell_type": "code",
   "execution_count": 1,
   "id": "fab3303a-4fb9-4aae-a417-31029e1e2569",
   "metadata": {},
   "outputs": [],
   "source": [
    "#Name : Muneeb Hassan \n",
    "#Roll No : 22p9199\n",
    "#Section : BCS 6A and BAI 4A\n",
    "#Dear sir i had missed alot of lab tasks with the above sections and i was in AI-6B until the previous sessionals i changed section due to clashes \n",
    "#and missed alot of tasks inbetween so i would like to submit tasks in this section so that i can be recover the missed tasks with this section"
   ]
  },
  {
   "cell_type": "code",
   "execution_count": 2,
   "id": "3f977a4d-2ba3-4cb2-8a2c-4f20eaa60bb4",
   "metadata": {},
   "outputs": [],
   "source": [
    "import numpy as np\n",
    "import pandas as pd\n",
    "import matplotlib.pyplot as plt"
   ]
  },
  {
   "cell_type": "markdown",
   "id": "2c2a0f9e-05db-4922-9858-682d9c86fd0d",
   "metadata": {},
   "source": [
    "## Question 1 ====> Depth First Search "
   ]
  },
  {
   "cell_type": "code",
   "execution_count": 22,
   "id": "7885764a-96d7-461c-9306-7d3642a0c84b",
   "metadata": {},
   "outputs": [
    {
     "name": "stdin",
     "output_type": "stream",
     "text": [
      "Enter the file name to be searched:  file5.txt\n"
     ]
    },
    {
     "name": "stdout",
     "output_type": "stream",
     "text": [
      "root/dir2/subdir2/file5.txt\n"
     ]
    }
   ],
   "source": [
    "def DFS(directory, target_file, current_path=\"\"):\n",
    "    paths_found = []\n",
    "\n",
    "    for folder, contents in directory.items():\n",
    "        path = f\"{current_path}/{folder}\" if current_path else folder\n",
    "\n",
    "        for file in contents.get(\"files\", []):\n",
    "            if file == target_file:\n",
    "                paths_found.append(f\"{path}/{file}\")\n",
    "\n",
    "        subdirs = contents.get(\"directories\", {})\n",
    "        if subdirs:\n",
    "            paths_found += DFS(subdirs, target_file, path)\n",
    "\n",
    "    return paths_found  # Always return the list of paths (may be empty)\n",
    "\n",
    "# Directory tree remains the same\n",
    "directory_tree = {\n",
    "    'root': {\n",
    "        'files': ['file1.txt', 'file2.txt'],\n",
    "        'directories': {\n",
    "            'dir1': {\n",
    "                'files': ['file3.txt'],\n",
    "                'directories': {\n",
    "                    'subdir1': {\n",
    "                        'files': ['target_file.txt'],\n",
    "                        'directories': {}\n",
    "                    }\n",
    "                }\n",
    "            },\n",
    "            'dir2': {\n",
    "                'files': ['file4.txt', 'target_file.txt'],\n",
    "                'directories': {\n",
    "                    'subdir2': {\n",
    "                        'files': ['file5.txt'],\n",
    "                        'directories': {}\n",
    "                    }\n",
    "                }\n",
    "            }\n",
    "        }\n",
    "    }\n",
    "}\n",
    "\n",
    "# Improved function call\n",
    "file_name = input(\"Enter the file name to be searched: \").strip()\n",
    "results = DFS(directory_tree, file_name)\n",
    "\n",
    "if results:\n",
    "    print('Path : ')\n",
    "    print('\\n'.join(results))\n",
    "else:\n",
    "    print(\"File not found.\")"
   ]
  },
  {
   "cell_type": "code",
   "execution_count": null,
   "id": "c1ad86f9-c88e-4964-8ab2-7a2e0322f588",
   "metadata": {},
   "outputs": [],
   "source": []
  }
 ],
 "metadata": {
  "kernelspec": {
   "display_name": "Python 3 (ipykernel)",
   "language": "python",
   "name": "python3"
  },
  "language_info": {
   "codemirror_mode": {
    "name": "ipython",
    "version": 3
   },
   "file_extension": ".py",
   "mimetype": "text/x-python",
   "name": "python",
   "nbconvert_exporter": "python",
   "pygments_lexer": "ipython3",
   "version": "3.13.1"
  }
 },
 "nbformat": 4,
 "nbformat_minor": 5
}
