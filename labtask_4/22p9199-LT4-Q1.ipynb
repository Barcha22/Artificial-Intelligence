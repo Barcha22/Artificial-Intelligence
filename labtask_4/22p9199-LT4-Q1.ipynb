{
 "cells": [
  {
   "cell_type": "markdown",
   "id": "d11a48d1",
   "metadata": {},
   "source": [
    "### BEST FIRST SEARCH\n"
   ]
  },
  {
   "cell_type": "code",
   "execution_count": null,
   "id": "671bcbc1",
   "metadata": {},
   "outputs": [],
   "source": [
    "import networkx as nx\n",
    "import queue\n",
    "import matplotlib.pyplot as plt"
   ]
  },
  {
   "cell_type": "code",
   "execution_count": 19,
   "id": "6b5c8de4",
   "metadata": {},
   "outputs": [
    {
     "name": "stdout",
     "output_type": "stream",
     "text": [
      "\n",
      "Path: [(0, 0), (1, 0), (2, 0), (3, 0), (4, 0), (4, 1), (4, 2), (4, 3), (4, 4)]\n"
     ]
    },
    {
     "data": {
      "image/png": "[encoded data removed]",
      "text/plain": [
       "<Figure size 600x600 with 1 Axes>"
      ]
     },
     "metadata": {},
     "output_type": "display_data"
    }
   ],
   "source": [
    "# Manhattan distance to find the hueristic values\n",
    "def heuristic(a, b):\n",
    "    return abs(a[0] - b[0]) + abs(a[1] - b[1])\n",
    "\n",
    "\n",
    "def best_first_search(maze, start, goal):\n",
    "    visited = set() #an empty set to store the nodes that we visited to keep track of the path and nodes\n",
    "    pri_queue = queue.PriorityQueue() #priority queue\n",
    "    pri_queue.put((heuristic(start, goal), [start])) #we will push the start and goal to the queue and it will guess the path to our goal and store it in a list\n",
    "\n",
    "    while not pri_queue.empty():    #this loop will run until there is no path to go in the queue\n",
    "        _, path = pri_queue.get() #_ is the priority because we dont care whatever direction it takes\n",
    "        current = path[-1] #current will be the last step we took from the path list until we discover our next move\n",
    "\n",
    "        if current == goal: #if we reached our goal then we will return the path\n",
    "            return path\n",
    "\n",
    "        if current in visited: #if we have already visited a node then we will skip it and search for the neighbor nodes of the current\n",
    "            continue\n",
    "        \n",
    "        visited.add(current) #if the node is unvisited we will add it to the visited set\n",
    "\n",
    "        for dr, dc in [(-1,0), (1,0), (0,-1), (0,1)]: #directions (up , down , left and right respectively)\n",
    "            nr, nc = current[0] + dr, current[1] + dc #this will try the next node that we will go to new row and new column\n",
    "            next_node = (nr, nc) #proceeding to the next node\n",
    "\n",
    "\n",
    "            if 0 <= nr < len(maze) and 0 <= nc < len(maze[0]): #making sure we dont go outside the maze\n",
    "                if maze[nr][nc] == 0 and next_node not in visited: #if the path ahead has no obstacle and the node is unvisited \n",
    "                    pri_queue.put((heuristic(next_node, goal), path + [next_node])) #then we will add it to the queue and repeat the whole process again\n",
    "    \n",
    "    return None #if we obsereve all the nodes and there is no path to reach our goal then we will simply return no path\n",
    "\n",
    "\n",
    "def show_maze(maze, path):\n",
    "    G = nx.Graph()\n",
    "    rows, cols = len(maze), len(maze[0])\n",
    "\n",
    "    for r in range(rows):\n",
    "        for c in range(cols):\n",
    "            if maze[r][c] == 0:\n",
    "                for dr, dc in [(-1,0), (1,0), (0,-1), (0,1)]:\n",
    "                    nr, nc = r + dr, c + dc\n",
    "                    if 0 <= nr < rows and 0 <= nc < cols and maze[nr][nc] == 0:\n",
    "                        G.add_edge((r, c), (nr, nc))\n",
    "\n",
    "    pos = { (r, c): (c, -r) for r in range(rows) for c in range(cols) if maze[r][c] == 0 }\n",
    "\n",
    "    plt.figure(figsize=(6, 6))\n",
    "    nx.draw(G, pos, node_color='lightgray', edge_color='gray', with_labels=False, node_size=500)\n",
    "\n",
    "    if path:\n",
    "        nx.draw_networkx_nodes(G, pos, nodelist=path, node_color='limegreen')\n",
    "        nx.draw_networkx_edges(G, pos, edgelist=list(zip(path[:-1], path[1:])), edge_color='red', width=2)\n",
    "\n",
    "    plt.title(\"Maze Path:\")\n",
    "    plt.axis('off')\n",
    "    plt.show()\n",
    "\n",
    "\n",
    "maze = [\n",
    "    [0,1,0,0,0],\n",
    "    [0,1,0,1,0],\n",
    "    [0,0,0,1,0],\n",
    "    [0,1,1,0,0],\n",
    "    [0,0,0,0,0]\n",
    "]\n",
    "\n",
    "start = (0, 0)\n",
    "goal = (4, 4)\n",
    "\n",
    "path = best_first_search(maze, start, goal)\n",
    "\n",
    "print(\"\\nPath:\", path)\n",
    "show_maze(maze, path)\n"
   ]
  },
  {
   "cell_type": "code",
   "execution_count": null,
   "id": "134321c5",
   "metadata": {},
   "outputs": [],
   "source": []
  }
 ],
 "metadata": {
  "kernelspec": {
   "display_name": "Python 3",
   "language": "python",
   "name": "python3"
  },
  "language_info": {
   "codemirror_mode": {
    "name": "ipython",
    "version": 3
   },
   "file_extension": ".py",
   "mimetype": "text/x-python",
   "name": "python",
   "nbconvert_exporter": "python",
   "pygments_lexer": "ipython3",
   "version": "3.13.1"
  }
 },
 "nbformat": 4,
 "nbformat_minor": 5
}
